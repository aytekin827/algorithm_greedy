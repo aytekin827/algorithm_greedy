{
  "nbformat": 4,
  "nbformat_minor": 0,
  "metadata": {
    "colab": {
      "name": "greedy.ipynb",
      "provenance": [],
      "collapsed_sections": [],
      "toc_visible": true,
      "authorship_tag": "ABX9TyM1caYfFvBXRwfqu+oif7CL",
      "include_colab_link": true
    },
    "kernelspec": {
      "name": "python3",
      "display_name": "Python 3"
    },
    "language_info": {
      "name": "python"
    }
  },
  "cells": [
    {
      "cell_type": "markdown",
      "metadata": {
        "id": "view-in-github",
        "colab_type": "text"
      },
      "source": [
        "<a href=\"https://colab.research.google.com/github/aytekin827/algorithm_greedy/blob/main/greedy.ipynb\" target=\"_parent\"><img src=\"https://colab.research.google.com/assets/colab-badge.svg\" alt=\"Open In Colab\"/></a>"
      ]
    },
    {
      "cell_type": "markdown",
      "metadata": {
        "id": "YxIluSxyCkoe"
      },
      "source": [
        "# Greedy  \n",
        "**[정의]**    \n",
        "* 발견법**(heuristic method)**중 하나이다. - 인간의 '감', '어림짐작'등 인간의 경험적인 부분을 알고리즘으로 표현한 것이다.\n",
        "* 주어진 상황을 한단계씩 빠른 시간 내에 해결하기  \n",
        "* 문제를 해결하는 과정에서 그 순간순간마다 최적이라고 생각되는 결정을 하는 방식으로 진행하여 최종 해답에 도달하는 문제 해결 방식이다.  \n",
        "* 단, 그 순간에는 최적의 선택이지만 종합적으로 봤을 땐 최적이 아닐수도 있다. (ex. 조삼모사)\n",
        "\n",
        "---\n",
        "\n",
        "**[조건]**  \n",
        "1.탐욕스러운 선택 조건(Greedy choice property) - 문제해결관점   \n",
        "2.최적 부분 구조 조건(Optimal Substructure) - 문제 구조관점\n",
        "\n",
        "* **<탐욕스러운 선택 조건 (Greedy choice property)>**   \n",
        "앞의 선택이 이후의 선택에 영향을 주지 않는 조건.\n",
        "\n",
        "* **<최적 부분 구조 조건(Optimal Substructure)>**  \n",
        "문제에 대한 최종 해결 방법이 부분 문제에 대해서도 또한 최적 문제 해결 방법이다는 조건.\n",
        "\n",
        "---\n",
        "\n",
        "**[greedy vs DP]**  \n",
        "\n",
        "* 그리디 - 최적부분구조 + 탐욕스러운 서브조건 (서브문제 중복X)  \n",
        " \n",
        "* DP - 최적부분구조 + 중복되는 서브문제  \n",
        "\n",
        "---\n",
        "[참고]  \n",
        "다익스트라 알고리즘은 그리디 알고리즘이지만 '암기'가 필요한 알고리즘이다.  \n",
        "즉 미리 공부를 해놔야 써먹을 수 있는 알고리즘이다."
      ]
    },
    {
      "cell_type": "code",
      "metadata": {
        "colab": {
          "base_uri": "https://localhost:8080/"
        },
        "id": "P4ZO_6_eb8Dj",
        "outputId": "4905db0b-277f-4a5d-9ea1-7ae7913b8bff"
      },
      "source": [
        "# 잔돈갯수를 구하자.(갖고 있는 돈 : 100원)\n",
        "price = int(input('물건값을 입력하세요.'))\n",
        "\n",
        "change = 100 - price\n",
        "coin_list = [50, 40, 20, 10, 5]   # 받을 수 있는 잔돈의 종류\n",
        "\n",
        "change_count = []   # 잔돈갯수\n",
        "\n",
        "while change != 0:\n",
        "    for coin in coin_list:    # 이 부분을 오해하지 말아야한다.(리스트에 대한 반복문이다.)\n",
        "        change_bool = 0\n",
        "        \n",
        "        change_bool += (change // coin)\n",
        "\n",
        "        change_count.append(change_bool)\n",
        "\n",
        "        change -= (change_bool * coin)\n",
        "\n",
        "        print(coin, change_count)\n",
        "        \n",
        "print('잔돈갯수 :',sum(change_count)) # 잔돈의 갯수를 합한다.(sum 내장함수 활용)"
      ],
      "execution_count": null,
      "outputs": [
        {
          "output_type": "stream",
          "name": "stdout",
          "text": [
            "물건값을 입력하세요.30\n",
            "50 [1]\n",
            "40 [1, 0]\n",
            "20 [1, 0, 1]\n",
            "10 [1, 0, 1, 0]\n",
            "5 [1, 0, 1, 0, 0]\n",
            "잔돈갯수 : 2\n"
          ]
        }
      ]
    },
    {
      "cell_type": "code",
      "metadata": {
        "colab": {
          "base_uri": "https://localhost:8080/"
        },
        "id": "CKDjLXtQk3Bu",
        "outputId": "cc5fb122-5f3b-4096-efc1-f72c0ef20cc6"
      },
      "source": [
        "# 과제\n",
        "def changes(price):\n",
        "    change = 1000 - price\n",
        "    coin_list = [700, 400, 300, 100, 50, 10]\n",
        "    result = {}\n",
        "\n",
        "    for coin in coin_list:\n",
        "        change_count = (change//coin)\n",
        "        change -= change_count*coin\n",
        "        \n",
        "        if change_count >= 1:\n",
        "            result[coin] = change_count\n",
        "        if change == 0:\n",
        "            break\n",
        "        print(f'{coin}원 잔돈갯수: {change_count}')\n",
        "    \n",
        "    return result\n",
        "\n",
        "if __name__ =='__main__':\n",
        "    price = int(input('물건값을 입력하세요 : '))\n",
        "    print(changes(price))"
      ],
      "execution_count": null,
      "outputs": [
        {
          "output_type": "stream",
          "name": "stdout",
          "text": [
            "물건값을 입력하세요 : 40\n",
            "700원 잔돈갯수: 1\n",
            "400원 잔돈갯수: 0\n",
            "300원 잔돈갯수: 0\n",
            "100원 잔돈갯수: 2\n",
            "50원 잔돈갯수: 1\n",
            "{700: 1, 100: 2, 50: 1, 10: 1}\n"
          ]
        }
      ]
    },
    {
      "cell_type": "markdown",
      "source": [
        "# 이코테 문제풀이\n"
      ],
      "metadata": {
        "id": "wDw3GoxdzEon"
      }
    },
    {
      "cell_type": "code",
      "source": [
        "# 큰 수의 법칙\n",
        "n,m,k = map(int,input().split())\n",
        "num_list = list(map(int,input().split()))\n",
        "\n",
        "num_list.sort(reverse=True)\n",
        "\n",
        "sum = 0\n",
        "\n",
        "while True:\n",
        "    for i in range(k):\n",
        "        if m == 0:\n",
        "            break\n",
        "        m -= 1\n",
        "        sum += num_list[0]\n",
        "    if m == 0:\n",
        "        break\n",
        "    sum += num_list[1]\n",
        "    m -= 1\n",
        "\n",
        "print(sum)"
      ],
      "metadata": {
        "id": "V8Y-vD7dzG_w",
        "outputId": "c74fe1b9-acdf-452b-847c-97c80c10ea79",
        "colab": {
          "base_uri": "https://localhost:8080/"
        }
      },
      "execution_count": null,
      "outputs": [
        {
          "output_type": "stream",
          "name": "stdout",
          "text": [
            "5 8 3\n",
            "2 4 5 4 6\n",
            "46\n"
          ]
        }
      ]
    },
    {
      "cell_type": "code",
      "source": [
        "# 큰 수의 법칙 다른 방법으로 풀기\n",
        "n,m,k = map(int,input().split())\n",
        "num_list = list(map(int,input().split()))\n",
        "num_list.sort(reverse=True)\n",
        "\n",
        "# 가장 큰 수가 더해지는 횟수\n",
        "count = int(m/(k+1))*k\n",
        "count += m % (k+1)\n",
        "\n",
        "res = 0\n",
        "res += count * num_list[0]\n",
        "res += (m-count) * num_list[1]\n",
        "\n",
        "print(res)\n"
      ],
      "metadata": {
        "id": "MbFAvX4N1bzD",
        "outputId": "cda2c3bf-abae-45ba-d278-66ce2706217d",
        "colab": {
          "base_uri": "https://localhost:8080/"
        }
      },
      "execution_count": null,
      "outputs": [
        {
          "output_type": "stream",
          "name": "stdout",
          "text": [
            "5 8 3\n",
            "2 4 5 4 6\n",
            "46\n"
          ]
        }
      ]
    },
    {
      "cell_type": "code",
      "source": [
        "# 숫자 카드 게임\n",
        "\n",
        "n,m = map(int,input().split())\n",
        "\n",
        "mat = []\n",
        "for i in range(n):\n",
        "    mat.append(list(map(int,input().split())))\n",
        "\n",
        "res = []\n",
        "for i in mat:\n",
        "    res.append(min(i))\n",
        "\n",
        "print(max(res)\n",
        "\n",
        "'''\n",
        "이렇게 풀어도 답은 나오지만 \n",
        "시간복잡도가 O(n^2)으로 너무 비효율적이다.\n",
        "시간복잡도를 낮춰보자.\n",
        "'''"
      ],
      "metadata": {
        "id": "IMjL-NG-2YNS",
        "outputId": "cb05c8b9-4ff4-49fa-f5f1-87ae7cefb0cc",
        "colab": {
          "base_uri": "https://localhost:8080/"
        }
      },
      "execution_count": null,
      "outputs": [
        {
          "output_type": "stream",
          "name": "stdout",
          "text": [
            "3 3\n",
            "3 1 2\n",
            "4 1 4\n",
            "2 2 2\n",
            "2\n"
          ]
        }
      ]
    },
    {
      "cell_type": "code",
      "source": [
        "# 숫자 카드 게임\n",
        "\n",
        "n,m = map(int,input().split())\n",
        "\n",
        "result = 0\n",
        "for i in range(n):\n",
        "    data = list(map(int,input().split()))\n",
        "    min_value = min(data)\n",
        "    result = max(min_value,result)\n",
        "\n",
        "print(result)\n",
        "\n",
        "'''\n",
        "이렇게되면 n번만 계산하면 되니깐 시간복잡도가 절반으로 줄어든다.\n",
        "'''"
      ],
      "metadata": {
        "id": "67AKBT3N3_qh"
      },
      "execution_count": null,
      "outputs": []
    },
    {
      "cell_type": "code",
      "source": [
        "# 1이 될때까지\n",
        "n , k = map(int,input().split())\n",
        "\n",
        "count = 0\n",
        "while True:\n",
        "    if n == 1:\n",
        "        break\n",
        "    if n % k == 0:\n",
        "        n = n / k\n",
        "        count += 1\n",
        "    else:\n",
        "        n -= 1\n",
        "        count += 1\n",
        "\n",
        "print(count) "
      ],
      "metadata": {
        "id": "zP9VE0qQ4Vpo",
        "outputId": "f8ee993f-8fc9-42ce-f6f9-1e313e3d1d44",
        "colab": {
          "base_uri": "https://localhost:8080/"
        }
      },
      "execution_count": null,
      "outputs": [
        {
          "output_type": "stream",
          "name": "stdout",
          "text": [
            "25 5\n",
            "2\n"
          ]
        }
      ]
    },
    {
      "cell_type": "markdown",
      "metadata": {
        "id": "t_5-Z-UHCnvv"
      },
      "source": [
        "# 백준 문제풀이"
      ]
    },
    {
      "cell_type": "code",
      "metadata": {
        "colab": {
          "base_uri": "https://localhost:8080/"
        },
        "id": "79anBps0Nm7F",
        "outputId": "e816000c-4086-4779-c5e2-1e31d0db78fa"
      },
      "source": [
        "n = int(input())\n",
        "\n",
        "if n == 4 or n == 7 :\n",
        "    print(-1)\n",
        "elif n % 5 == 0:\n",
        "    print(n//5)\n",
        "elif n % 5 == 1:\n",
        "    print(n//5 + 1)\n",
        "elif n % 5 == 2:\n",
        "    print(n//5 + 2)\n",
        "elif n % 5 == 3:\n",
        "    print(n//5 + 1)\n",
        "elif n % 5 == 4:\n",
        "    print(n//5 + 2)\n"
      ],
      "execution_count": null,
      "outputs": [
        {
          "output_type": "stream",
          "name": "stdout",
          "text": [
            "18\n",
            "4\n"
          ]
        }
      ]
    },
    {
      "cell_type": "code",
      "metadata": {
        "colab": {
          "base_uri": "https://localhost:8080/"
        },
        "id": "KMPz2uozO0pw",
        "outputId": "e3ccfbdd-bff1-4232-d5bf-83573ac8fcb3"
      },
      "source": [
        "n = int(input())\n",
        "pi = list(map(int,input().split()))\n",
        "pi.sort()\n",
        "sum = 0\n",
        "for i in range(n):\n",
        "    sum += pi[i]*(n-i)\n",
        "print(sum)"
      ],
      "execution_count": null,
      "outputs": [
        {
          "output_type": "stream",
          "name": "stdout",
          "text": [
            "5\n",
            "3 1 4 3 2\n",
            "32\n"
          ]
        }
      ]
    },
    {
      "cell_type": "code",
      "metadata": {
        "colab": {
          "base_uri": "https://localhost:8080/"
        },
        "id": "TO_Kou27QSXA",
        "outputId": "09b097a2-9345-48d7-d804-84c74aaedc56"
      },
      "source": [
        "n,k = map(int,input().split())\n",
        "ai = []\n",
        "for i in range(n):\n",
        "    a = int(input())\n",
        "    ai.append(a)\n",
        "\n",
        "\n",
        "count = 0\n",
        "for i in reversed(ai):\n",
        "    res = k//i\n",
        "    count += res\n",
        "    k -= res*i\n",
        "\n",
        "print(count)"
      ],
      "execution_count": null,
      "outputs": [
        {
          "output_type": "stream",
          "name": "stdout",
          "text": [
            "10 4200\n",
            "1\n",
            "5\n",
            "10\n",
            "50\n",
            "100\n",
            "500\n",
            "1000\n",
            "5000\n",
            "10000\n",
            "50000\n",
            "6\n"
          ]
        }
      ]
    },
    {
      "cell_type": "code",
      "metadata": {
        "colab": {
          "base_uri": "https://localhost:8080/",
          "height": 244
        },
        "id": "QXPmkBmjTIha",
        "outputId": "e21b06f1-cb93-4439-b70e-84f64d9192cc"
      },
      "source": [
        "# 회의실 - 시간초가\n",
        "# big o 표기법에서 어떻게 되는건지\n",
        "\n",
        "n = int(input())\n",
        "conf = []\n",
        "time = set()\n",
        "for i in range(n):\n",
        "    start, end = map(int,input().split())\n",
        "    conf.append([start,end,abs(start-end)])\n",
        "    for j in range(start,end+1):\n",
        "        time.add(j)\n",
        "\n",
        "conf.sort(key=lambda x:x[2]) # 2차원 리스트 정렬\n",
        "\n",
        "count = 0\n",
        "for i in conf:\n",
        "    temp = {j for j in range(i[0],i[1])}\n",
        "    if temp.issubset(time):\n",
        "        count += 1\n",
        "        time = time.difference(temp)\n",
        "print(count)\n",
        "print(time)\n",
        "print(conf)"
      ],
      "execution_count": null,
      "outputs": [
        {
          "output_type": "error",
          "ename": "ValueError",
          "evalue": "ignored",
          "traceback": [
            "\u001b[0;31m---------------------------------------------------------------------------\u001b[0m",
            "\u001b[0;31mValueError\u001b[0m                                Traceback (most recent call last)",
            "\u001b[0;32m<ipython-input-2-10b8ff56d196>\u001b[0m in \u001b[0;36m<module>\u001b[0;34m()\u001b[0m\n\u001b[1;32m      1\u001b[0m \u001b[0;31m# 회의실\u001b[0m\u001b[0;34m\u001b[0m\u001b[0;34m\u001b[0m\u001b[0;34m\u001b[0m\u001b[0m\n\u001b[1;32m      2\u001b[0m \u001b[0;32mimport\u001b[0m \u001b[0msys\u001b[0m\u001b[0;34m\u001b[0m\u001b[0;34m\u001b[0m\u001b[0m\n\u001b[0;32m----> 3\u001b[0;31m \u001b[0mn\u001b[0m \u001b[0;34m=\u001b[0m \u001b[0mint\u001b[0m\u001b[0;34m(\u001b[0m\u001b[0msys\u001b[0m\u001b[0;34m.\u001b[0m\u001b[0mstdin\u001b[0m\u001b[0;34m.\u001b[0m\u001b[0mreadline\u001b[0m\u001b[0;34m(\u001b[0m\u001b[0;34m)\u001b[0m\u001b[0;34m)\u001b[0m\u001b[0;34m\u001b[0m\u001b[0;34m\u001b[0m\u001b[0m\n\u001b[0m\u001b[1;32m      4\u001b[0m \u001b[0mconf\u001b[0m \u001b[0;34m=\u001b[0m \u001b[0;34m[\u001b[0m\u001b[0;34m]\u001b[0m\u001b[0;34m\u001b[0m\u001b[0;34m\u001b[0m\u001b[0m\n\u001b[1;32m      5\u001b[0m \u001b[0mtime\u001b[0m \u001b[0;34m=\u001b[0m \u001b[0mset\u001b[0m\u001b[0;34m(\u001b[0m\u001b[0;34m)\u001b[0m\u001b[0;34m\u001b[0m\u001b[0;34m\u001b[0m\u001b[0m\n",
            "\u001b[0;31mValueError\u001b[0m: invalid literal for int() with base 10: ''"
          ]
        }
      ]
    },
    {
      "cell_type": "code",
      "metadata": {
        "colab": {
          "base_uri": "https://localhost:8080/"
        },
        "id": "Xn7Aqd-5x5RA",
        "outputId": "d6b42ef8-d94f-4dc9-fa8a-768a616d0ede"
      },
      "source": [
        "# 회의실\n",
        "n = int(input())\n",
        "\n",
        "conf = []\n",
        "for i in range(n):\n",
        "    start, end = map(int,input().split())\n",
        "    conf.append([start,end])\n",
        "conf.sort(key=lambda x:(x[0],-x[1]))\n",
        "\n",
        "count = 0\n",
        "last = 0\n",
        "for i,j in conf:\n",
        "    if i >= last:\n",
        "        count += 1\n",
        "        last = j\n",
        "print(count)"
      ],
      "execution_count": null,
      "outputs": [
        {
          "output_type": "stream",
          "name": "stdout",
          "text": [
            "11\n",
            "1 4\n",
            "3 5\n",
            "0 6\n",
            "5 7\n",
            "3 8\n",
            "5 9\n",
            "6 10\n",
            "8 11 \n",
            "8 12\n",
            "2 13\n",
            "12 14\n",
            "3\n"
          ]
        }
      ]
    },
    {
      "cell_type": "code",
      "metadata": {
        "colab": {
          "base_uri": "https://localhost:8080/"
        },
        "id": "kWuFyw-qDKAv",
        "outputId": "89a6cd28-28a7-46ed-a59f-d03b4de82dbc"
      },
      "source": [
        "t = int(input()) # 구할 테스트 케이스의 개수 입력\n",
        "\n",
        "def isPrime(num): # 소수를 판발하는 정의\n",
        "  if num == 1:\n",
        "    return False\n",
        "  else:\n",
        "    for i in range(2,int(num**0.5)+1):\n",
        "      if num % i == 0:\n",
        "        return False\n",
        "    return True\n",
        "\n",
        "all_list = list(range(1,10000))\n",
        "save_list = []\n",
        "\n",
        "for i in all_list: # 문제 범위내 모든 소수들의 리스트\n",
        "  if isPrime(i):\n",
        "    save_list.append(i)\n",
        "\n",
        "for i in range(t):\n",
        "  n = int(input()) # 골드바흐를 테스트해볼 짝수 입력\n",
        "  half = n//2\n",
        "  for x in range(half,1,-1):\n",
        "    if (n-x in save_list) and (x in save_list):\n",
        "      print(x,n-x)\n",
        "      break"
      ],
      "execution_count": null,
      "outputs": [
        {
          "output_type": "stream",
          "name": "stdout",
          "text": [
            "3\n",
            "8\n",
            "3 5\n",
            "10\n",
            "5 5\n",
            "16\n",
            "5 11\n"
          ]
        }
      ]
    },
    {
      "cell_type": "code",
      "metadata": {
        "colab": {
          "base_uri": "https://localhost:8080/"
        },
        "id": "MEjYZZOsHMUa",
        "outputId": "c61a3c6b-0b9c-45e1-e113-83309304cfd4"
      },
      "source": [
        "# 직사각형에서 탈출\n",
        "x,y,w,h = map(int,input().split())\n",
        "\n",
        "wx = w - x # 오른쪽으로의 수평거리\n",
        "# x = 왼쪽으로의 수평거리\n",
        "hy = h - y # 위쪽으로의 수직거리\n",
        "# y = 아래쪽으로의 수직거리\n",
        "\n",
        "if x <= wx:\n",
        "  x_num = x\n",
        "else:\n",
        "  x_num = wx\n",
        "\n",
        "if y <= hy:\n",
        "  y_num = y\n",
        "else:\n",
        "  y_num = hy\n",
        "\n",
        "if x_num <= y_num:\n",
        "  print(x_num)\n",
        "else:\n",
        "  print(y_num)"
      ],
      "execution_count": null,
      "outputs": [
        {
          "output_type": "stream",
          "name": "stdout",
          "text": [
            "6 2 10 3\n",
            "1\n"
          ]
        }
      ]
    },
    {
      "cell_type": "code",
      "metadata": {
        "colab": {
          "base_uri": "https://localhost:8080/"
        },
        "id": "iMQJHAc1WH0M",
        "outputId": "2c6bf8fa-b9ec-4066-a787-abcbdcc8b0fe"
      },
      "source": [
        "n = input().split('-')\n",
        "first = sum(list(map(int,n[0].split('+'))))\n",
        "\n",
        "for i in range(1,len(n)):\n",
        "    first -= sum(list(map(int,n[i].split('+'))))\n",
        "\n",
        "print(first)"
      ],
      "execution_count": null,
      "outputs": [
        {
          "output_type": "stream",
          "name": "stdout",
          "text": [
            "55-50+40\n",
            "-35\n"
          ]
        }
      ]
    },
    {
      "cell_type": "code",
      "metadata": {
        "colab": {
          "base_uri": "https://localhost:8080/"
        },
        "id": "Q-iJzzIczChC",
        "outputId": "8931fad0-f3b0-40a0-e290-a92163f19672"
      },
      "source": [
        "# 주유소\n",
        "\n",
        "n = int(input())\n",
        "dis = list(map(int,input().split()))\n",
        "oil = list(map(int,input().split()))\n",
        "\n",
        "res = 0\n",
        "i = 0\n",
        "j = 0\n",
        "\n",
        "tot_dis = sum(dis) \n",
        "\n",
        "while tot_dis != 0:\n",
        "    if oil[i] >= oil[i+1]:\n",
        "        res += oil[i]*dis[j]\n",
        "        tot_dis -= dis[i]\n",
        "        i += 1\n",
        "        j += 1\n",
        "\n",
        "    else:\n",
        "        res += oil[i]*dis[j]\n",
        "        tot_dis -= dis[j]\n",
        "        j += 1\n",
        "\n",
        "print(res)\n",
        "\n",
        "    "
      ],
      "execution_count": null,
      "outputs": [
        {
          "output_type": "stream",
          "name": "stdout",
          "text": [
            "4 \n",
            "3 3 4\n",
            "1 1 1 1\n",
            "10\n"
          ]
        }
      ]
    },
    {
      "cell_type": "code",
      "metadata": {
        "colab": {
          "base_uri": "https://localhost:8080/"
        },
        "id": "qarlRvLkZRMN",
        "outputId": "d7d48130-7d2c-41e4-b253-6d3fb49189c1"
      },
      "source": [
        "# 거스름돈\n",
        "n = int(input())\n",
        "\n",
        "change = 1000-n\n",
        "paper = [500,100,50,10,5,1]\n",
        "\n",
        "cnt = 0\n",
        "for i in paper:\n",
        "\n",
        "    cnt += change//i\n",
        "    change -= (change//i)*i\n",
        "\n",
        "print(cnt)"
      ],
      "execution_count": null,
      "outputs": [
        {
          "output_type": "stream",
          "name": "stdout",
          "text": [
            "600\n",
            "4\n"
          ]
        }
      ]
    },
    {
      "cell_type": "code",
      "metadata": {
        "colab": {
          "base_uri": "https://localhost:8080/"
        },
        "id": "_Eo8l42Ta5sg",
        "outputId": "3480c4dc-9f1e-42c6-a82a-65e479aa108c"
      },
      "source": [
        "# 로프\n",
        "n = int(input())\n",
        "rope = []\n",
        "for i in range(n):\n",
        "    rope.append(int(input()))\n",
        "rope.sort(reverse=True)\n",
        "print(rope)\n",
        "heavy = 0\n",
        "for i in range(n):\n",
        "    greedy = rope[i]*(i+1) # 최대 중량\n",
        "    if greedy >= heavy:\n",
        "        heavy = greedy\n",
        "\n",
        "print(heavy)\n"
      ],
      "execution_count": null,
      "outputs": [
        {
          "output_type": "stream",
          "name": "stdout",
          "text": [
            "5\n",
            "10\n",
            "50\n",
            "90\n",
            "30\n",
            "20\n",
            "[90, 50, 30, 20, 10]\n",
            "100\n"
          ]
        }
      ]
    },
    {
      "cell_type": "code",
      "metadata": {
        "colab": {
          "base_uri": "https://localhost:8080/"
        },
        "id": "FKZkbwA5gBzN",
        "outputId": "eb706ef0-ad56-40e3-d9a6-7672c924fdfb"
      },
      "source": [
        "# 전자레인지\n",
        "# 300초 60초 10초\n",
        "\n",
        "n = int(input())\n",
        "\n",
        "a = (n//300)\n",
        "n -= (n//300)*300\n",
        "\n",
        "b = (n//60)\n",
        "n -= (n//60)*60\n",
        "\n",
        "c = (n//10)\n",
        "n -= (n//10)*10\n",
        "\n",
        "if n != 0:\n",
        "    print(-1)\n",
        "else:\n",
        "    print(a,b,c)"
      ],
      "execution_count": null,
      "outputs": [
        {
          "output_type": "stream",
          "name": "stdout",
          "text": [
            "189\n",
            "-1\n"
          ]
        }
      ]
    },
    {
      "cell_type": "code",
      "metadata": {
        "colab": {
          "base_uri": "https://localhost:8080/"
        },
        "id": "yTy40gdFFlPL",
        "outputId": "e84081ff-87b8-474d-e85e-904099ed5197"
      },
      "source": [
        "# 신입사원\n",
        "t = int(input())\n",
        "\n",
        "for i in range(t):\n",
        "    n = int(input())    \n",
        "    candidate = []\n",
        "    for j in range(n):\n",
        "        candidate.append(list(map(int,input().split())))\n",
        "    candidate.sort(key=lambda x:x[0])\n",
        "\n",
        "    cnt = 0\n",
        "    order = 1\n",
        "    while order != n:\n",
        "        for o in range(order):\n",
        "            if candidate[o][1] < candidate[o-1][1]:\n",
        "                cnt += 1\n",
        "                break\n",
        "        order += 1\n",
        "\n",
        "    print(cnt) "
      ],
      "execution_count": null,
      "outputs": [
        {
          "output_type": "stream",
          "name": "stdout",
          "text": [
            "1\n",
            "7\n",
            "3 6\n",
            "7 3\n",
            "4 2\n",
            "1 4\n",
            "5 7\n",
            "2 5\n",
            "6 1\n",
            "3\n"
          ]
        }
      ]
    },
    {
      "cell_type": "code",
      "metadata": {
        "colab": {
          "base_uri": "https://localhost:8080/"
        },
        "id": "I22imwXfQgv2",
        "outputId": "23249048-1c37-4f80-b77a-80d92c788df8"
      },
      "source": [
        "# 1789 수들의 합 - 그리디\n",
        "\n",
        "n = int(input())\n",
        "\n",
        "i = 0\n",
        "while True:\n",
        "    if n <= 2:\n",
        "        print(1)\n",
        "        break\n",
        "    i += 1\n",
        "    n -= i\n",
        "    if n < i+1 + i+2:\n",
        "        print(i+1)\n",
        "        break"
      ],
      "execution_count": null,
      "outputs": [
        {
          "output_type": "stream",
          "name": "stdout",
          "text": [
            "6\n",
            "3\n"
          ]
        }
      ]
    },
    {
      "cell_type": "code",
      "metadata": {
        "colab": {
          "base_uri": "https://localhost:8080/"
        },
        "id": "nW-KPI_kTh2a",
        "outputId": "60167e2c-2646-448f-c406-653938e4c8bd"
      },
      "source": [
        "# 1339 단어 수학 - 그리디\n",
        "n = int(input())\n",
        "\n",
        "word_list = []\n",
        "\n",
        "for _ in range(n):\n",
        "    word_list.append(input())\n",
        "\n",
        "word_dict = {}\n",
        "for word in word_list:\n",
        "    power = len(word)-1\n",
        "    for i in word:\n",
        "        if i in word_dict:\n",
        "            word_dict[i] += pow(10,power)\n",
        "        else:\n",
        "            word_dict[i] = pow(10,power)\n",
        "        power -= 1\n",
        "\n",
        "word_dict = sorted(word_dict.values(),reverse=True)\n",
        "\n",
        "res = 0\n",
        "m = 9\n",
        "for value in word_dict:\n",
        "    res += value * m\n",
        "    m -= 1\n",
        "\n",
        "print(res)"
      ],
      "execution_count": null,
      "outputs": [
        {
          "output_type": "stream",
          "name": "stdout",
          "text": [
            "2\n",
            "ab\n",
            "ba\n",
            "187\n"
          ]
        }
      ]
    },
    {
      "cell_type": "code",
      "metadata": {
        "colab": {
          "base_uri": "https://localhost:8080/"
        },
        "id": "Y5mVRiYf1hZF",
        "outputId": "773c95d1-bfad-4112-d860-4c8f62bb3d56"
      },
      "source": [
        "# 2720 세탁소 사장 동혁\n",
        "\n",
        "t = int(input())\n",
        "coins=[25,10,5,1]\n",
        "for _ in range(t):\n",
        "    change = int(input())\n",
        "    change_coin = []\n",
        "    for coin in coins:\n",
        "        change_coin.append(change//coin)\n",
        "        change -= (change//coin)*coin\n",
        "    \n",
        "    for i in change_coin:\n",
        "        print(i,end=' ')"
      ],
      "execution_count": null,
      "outputs": [
        {
          "output_type": "stream",
          "name": "stdout",
          "text": [
            "1\n",
            "124\n",
            "4 2 0 4 "
          ]
        }
      ]
    },
    {
      "cell_type": "code",
      "metadata": {
        "colab": {
          "base_uri": "https://localhost:8080/"
        },
        "id": "aE7ZWZg3ccic",
        "outputId": "5ae324d6-829c-49ec-9bf5-17213e934ad7"
      },
      "source": [
        "# 1026 보물\n",
        "\n",
        "n = int(input())\n",
        "\n",
        "# 각 데이터를 공백으로 구분하여 입력값을 받는다.\n",
        "list_1 = list(map(int, input().split()))\n",
        "list_2 = list(map(int, input().split()))\n",
        "\n",
        "list_1.sort()\n",
        "list_2.sort(reverse=True)\n",
        "\n",
        "res = [x*y for (x,y) in zip(list_1,list_2)]\n",
        "print(sum(res))"
      ],
      "execution_count": null,
      "outputs": [
        {
          "output_type": "stream",
          "name": "stdout",
          "text": [
            "5\n",
            "1 1 1 6 0\n",
            "2 7 8 3 1\n",
            "[0, 7, 3, 2, 6]\n",
            "18\n"
          ]
        }
      ]
    },
    {
      "cell_type": "code",
      "source": [
        "# 10610 30\n",
        "\n",
        "n = input()\n",
        "n = sorted(n,reverse=True)\n",
        "sum = 0\n",
        "\n",
        "if '0' not in n:\n",
        "    print(-1)\n",
        "else:\n",
        "    for i in n:\n",
        "        sum += int(i)\n",
        "    if sum % 3 != 0:\n",
        "        print(-1)\n",
        "    else:\n",
        "        print(''.join(n))\n",
        "\n",
        "'''\n",
        "string.join()함수:\n",
        "str.join(사이사이에 들어갈 문자, iterable object)\n",
        "이렇게 사용할 수 도 있따.\n",
        "'''\n"
      ],
      "metadata": {
        "id": "7JW78rRQVEr-",
        "outputId": "1623e383-80e6-4c7f-9781-2ccddf79eb5b",
        "colab": {
          "base_uri": "https://localhost:8080/"
        }
      },
      "execution_count": null,
      "outputs": [
        {
          "output_type": "stream",
          "name": "stdout",
          "text": [
            "30\n",
            "30\n"
          ]
        }
      ]
    },
    {
      "cell_type": "code",
      "source": [
        "# 1715 카드 정렬하기\n",
        "\n",
        "import heapq\n",
        "\n",
        "N = int(input())\n",
        "card_deck = []\n",
        "for _ in range(N):\n",
        "    heapq.heappush(card_deck, int(input()))\n",
        "\n",
        "\n",
        "if len(card_deck) == 1: #1개일 경우 비교하지 않아도 된다\n",
        "    print(0)\n",
        "else:\n",
        "    answer = 0\n",
        "    while len(card_deck) > 1: #1개일 경우 비교하지 않아도 된다\n",
        "        temp_1 = heapq.heappop(card_deck) #제일 작은 덱\n",
        "        temp_2 = heapq.heappop(card_deck) #두번째로 작은 덱\n",
        "        answer += temp_1 + temp_2 #현재 비교 횟수를 더해줌\n",
        "        heapq.heappush(card_deck, temp_1 + temp_2) #더한 덱을 다시 넣어줌\n",
        "    \n",
        "    print(answer)\n"
      ],
      "metadata": {
        "id": "n4wW6y6HWbHm",
        "outputId": "ccde8a6a-387d-4917-a2af-b7b228054777",
        "colab": {
          "base_uri": "https://localhost:8080/"
        }
      },
      "execution_count": null,
      "outputs": [
        {
          "output_type": "stream",
          "name": "stdout",
          "text": [
            "3\n",
            "10\n",
            "20\n",
            "30\n",
            "90\n"
          ]
        }
      ]
    },
    {
      "cell_type": "code",
      "source": [
        "# 4796 캠핑\n",
        "\n",
        "case = 0\n",
        "while True:\n",
        "    case += 1\n",
        "\n",
        "    L, P, V = map(int, input().split())\n",
        "\n",
        "    if (L + P + V) == 0:\n",
        "        break\n",
        "    \n",
        "    remainder = V%P if V%P <= L else L\n",
        "\n",
        "    ans = L*(V//P) + remainder\n",
        "    \n",
        "    print(f'Case {case}: {ans}')"
      ],
      "metadata": {
        "colab": {
          "base_uri": "https://localhost:8080/"
        },
        "id": "1YQlJT5QYzug",
        "outputId": "58cf8f17-6905-42d4-a5a9-c1c587ee8859"
      },
      "execution_count": null,
      "outputs": [
        {
          "name": "stdout",
          "output_type": "stream",
          "text": [
            "0 0 0\n"
          ]
        }
      ]
    },
    {
      "cell_type": "code",
      "source": [
        "# 16953번: A -> B\n",
        "\n",
        "a,b = map(int,input().split())\n",
        "\n",
        "cnt = 1\n",
        "while True:\n",
        "    if b == a:\n",
        "        break\n",
        "    elif (b%2 != 0 and b % 10 != 1) or (b<a):\n",
        "        cnt = -1\n",
        "        break \n",
        "    else:\n",
        "        if b % 10 == 1:\n",
        "            b //= 10\n",
        "            cnt += 1\n",
        "        else:\n",
        "            b //= 2\n",
        "            cnt += 1\n",
        "print(cnt)"
      ],
      "metadata": {
        "id": "ZfFc92QFVTBf",
        "outputId": "28ff8ce2-d9d4-4f02-de19-1b513c19cb17",
        "colab": {
          "base_uri": "https://localhost:8080/"
        }
      },
      "execution_count": 30,
      "outputs": [
        {
          "output_type": "stream",
          "name": "stdout",
          "text": [
            "4 42\n",
            "-1\n"
          ]
        }
      ]
    }
  ]
}